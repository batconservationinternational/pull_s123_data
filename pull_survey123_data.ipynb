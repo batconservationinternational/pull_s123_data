{
 "cells": [
  {
   "cell_type": "markdown",
   "id": "7754eaae",
   "metadata": {},
   "source": [
    "# Export survey data with attachments"
   ]
  },
  {
   "cell_type": "markdown",
   "id": "ccf52386",
   "metadata": {},
   "source": [
    "<table class=\"tfo-notebook-buttons\" align=\"right\">\n",
    "  <td>\n",
    "    <a target=\"_blank\" href=\"https://www.arcgis.com/home/item.html?id=b60a589edae249f293c3b880a33ee363\">Try it live</a>\n",
    "  </td>\n",
    "  <td>\n",
    "    <a target=\"_blank\" href=\"https://github.com/Esri/Survey123-tools/tree/main/Export_survey_data_with_attachments\">View source on GitHub</a>\n",
    "  </td>\n",
    "</table>"
   ]
  },
  {
   "cell_type": "markdown",
   "id": "8b99d329",
   "metadata": {},
   "source": [
    "<div class=\"alert alert-block alert-info\">This notebook uses the ArcGIS API for Python. For more information, see the <a href=\"https://developers.arcgis.com/python/\">ArcGIS API for Python documentation and guides</a>.</div>"
   ]
  },
  {
   "cell_type": "markdown",
   "id": "a5ad1bb7",
   "metadata": {},
   "source": [
    "A common ArcGIS Survey123 workflow is to export survey data as a `.xlsx` file and work with that data in other software. A limitation of exporting data from your ArcGIS organization in Microsoft Excel format is that the attachments are not included. The only way to include attachments when exporting a dataset from the Survey123 website, ArcGIS Online, or ArcGIS Enterprise is to export it as a file geodatabase, but this method still requires additional work to extract the attachments.\n",
    "\n",
    "Fortunately, you can use the ArcGIS API for Python to export your survey data in XLSX format and save any attachments to your computer.\n",
    "\n",
    "This notebook will export your survey results as a `.xlsx` file, download all attachments associated with the data into folders unique to the parent layer or table, and create additional CSV files that map which parent object ID corresponds to which attachment file path."
   ]
  },
  {
   "cell_type": "code",
   "execution_count": 1,
   "id": "cc47346d",
   "metadata": {},
   "outputs": [
    {
     "ename": "ModuleNotFoundError",
     "evalue": "No module named 'arcgis'",
     "output_type": "error",
     "traceback": [
      "\u001b[0;31m---------------------------------------------------------------------------\u001b[0m",
      "\u001b[0;31mModuleNotFoundError\u001b[0m                       Traceback (most recent call last)",
      "\u001b[1;32m/Users/ngoodby/Desktop/pull_survey123_data.ipynb Cell 5\u001b[0m in \u001b[0;36m<cell line: 1>\u001b[0;34m()\u001b[0m\n\u001b[0;32m----> <a href='vscode-notebook-cell:/Users/ngoodby/Desktop/pull_survey123_data.ipynb#X26sZmlsZQ%3D%3D?line=0'>1</a>\u001b[0m \u001b[39mimport\u001b[39;00m \u001b[39marcgis\u001b[39;00m\n\u001b[1;32m      <a href='vscode-notebook-cell:/Users/ngoodby/Desktop/pull_survey123_data.ipynb#X26sZmlsZQ%3D%3D?line=1'>2</a>\u001b[0m \u001b[39mfrom\u001b[39;00m \u001b[39marcgis\u001b[39;00m\u001b[39m.\u001b[39;00m\u001b[39mgis\u001b[39;00m \u001b[39mimport\u001b[39;00m GIS\n\u001b[1;32m      <a href='vscode-notebook-cell:/Users/ngoodby/Desktop/pull_survey123_data.ipynb#X26sZmlsZQ%3D%3D?line=2'>3</a>\u001b[0m \u001b[39mimport\u001b[39;00m \u001b[39mos\u001b[39;00m\u001b[39m,\u001b[39m \u001b[39mre\u001b[39;00m\u001b[39m,\u001b[39m \u001b[39mcsv\u001b[39;00m\n",
      "\u001b[0;31mModuleNotFoundError\u001b[0m: No module named 'arcgis'"
     ]
    }
   ],
   "source": [
    "import arcgis\n",
    "from arcgis.gis import GIS\n",
    "import os, re, csv"
   ]
  },
  {
   "cell_type": "markdown",
   "id": "60840304",
   "metadata": {},
   "source": [
    "The first step is to define the variables needed to complete this workflow. The required variables are as follows: \n",
    "* **portalURL** - The URL for your ArcGIS organization (e.g. www.arcgis.com)\n",
    "* **username** - Your ArcGIS organization username (e.g. gisadmin)\n",
    "* **password** - You ArcGIS organization password (e.g. gisadmin1)\n",
    "* **survey_item_id** - The item ID for the ArcGIS Survey123 form item in your ArcGIS organization (e.g. 89bc8c7844e548e09baa3aad4695e78b)\n",
    "* **save_path** - The directory where you would like to save the survey results and attachments (e.g. C:\\temp)\n",
    "* **keep_org_item** - By default, an exported item is added to your content in your ArcGIS organization. This Boolean value allows you to choose if you would like to keep the exported item in your content (`True`), or remove it (`False`).\n",
    "* **store_csv_w_attachments** - Boolean value that allows you to choose if the `.csv` file that maps each attachment to its parent object ID should be stored in the root folder (with the exported Excel workbook) (`False`), or in each individual layer folder (`True`)."
   ]
  },
  {
   "cell_type": "code",
   "execution_count": 2,
   "id": "933913f1",
   "metadata": {},
   "outputs": [],
   "source": [
    "portalURL = \"https://www.arcgis.com\"\n",
    "username = \"\"\n",
    "password = \"\"\n",
    "survey_item_id = \"\" # get from url for survey, i.e. if url is \"http://survey123.arcgis.com/surveys/3d02eec41a224902ab4c44e6d39319c8\", then survey_item_id is 3d02eec41a224902ab4c44e6d39319c8\n",
    "save_path = r\"C:\\temp\\download_with_attachments\"\n",
    "keep_org_item = False\n",
    "store_csv_w_attachments = False"
   ]
  },
  {
   "cell_type": "markdown",
   "id": "e7bc72ab",
   "metadata": {},
   "source": [
    "A connection is made to your ArcGIS organization and to the survey specified above."
   ]
  },
  {
   "cell_type": "code",
   "execution_count": 3,
   "id": "be065b2f",
   "metadata": {},
   "outputs": [],
   "source": [
    "gis = GIS(portalURL, username, password)\n",
    "survey_by_id = gis.content.get(survey_item_id)"
   ]
  },
  {
   "cell_type": "markdown",
   "id": "26df8851",
   "metadata": {},
   "source": [
    "Next, the data in the survey's feature service is downloaded in XLSX format. "
   ]
  },
  {
   "cell_type": "code",
   "execution_count": 4,
   "id": "23b48362",
   "metadata": {},
   "outputs": [],
   "source": [
    "rel_fs = survey_by_id.related_items('Survey2Data','forward')[0]\n",
    "item_excel = rel_fs.export(title=survey_by_id.title, export_format='Excel')\n",
    "item_excel.download(save_path=save_path)\n",
    "if not bool(keep_org_item):\n",
    "    item_excel.delete(force=True)"
   ]
  },
  {
   "cell_type": "markdown",
   "id": "0ff67690",
   "metadata": {},
   "source": [
    "Now that the data is downloaded, it's time to work with the attachments. Each layer and table in the feature service is looped through, and if the layer or table has attachments a new folder is created using the layer name with `_attachments` appended to it. A new `.csv` file is created, containing the parent object ID and the relative folder path for each attachment in that layer. The `.csv` file is saved to either the directory specified in the `save_path` variable, or in the layers folder, depending on the value of `store_csv_w_attachments`.\n",
    "\n",
    "The layer is then queried to return the object IDs. Each object ID is queried to see if it has attachments. If it does have attachments, these are downloaded to the associated folder and a new entry is written to the `.csv` file. If the object ID does not have attachments, the record is skipped. \n",
    "\n",
    "When the notebook finishes, all exported data and attachments will be contained in the `save_path` folder."
   ]
  },
  {
   "cell_type": "code",
   "execution_count": null,
   "id": "99fe6f4b",
   "metadata": {},
   "outputs": [],
   "source": [
    "layers = rel_fs.layers + rel_fs.tables\n",
    "for i in layers:\n",
    "    if i.properties.hasAttachments == True:\n",
    "        feature_layer_folder = os.path.join(save_path, '{}_attachments'.format(re.sub(r'[^A-Za-z0-9]+', '', i.properties.name)))\n",
    "        os.mkdir(feature_layer_folder)\n",
    "        if bool(store_csv_w_attachments):\n",
    "            path = os.path.join(feature_layer_folder, \"{}_attachments.csv\".format(i.properties.name))\n",
    "        elif not bool(store_csv_w_attachments):\n",
    "            path = os.path.join(save_path, \"{}_attachments.csv\".format(i.properties.name))\n",
    "        csv_fields = ['Parent objectId', 'Attachment path']\n",
    "        with open(path, 'w', newline='') as csvfile:\n",
    "            csvwriter = csv.writer(csvfile)\n",
    "            csvwriter.writerow(csv_fields)\n",
    "            \n",
    "            feature_object_ids = i.query(where=\"1=1\", return_ids_only=True, order_by_fields='objectid ASC')\n",
    "            for j in range(len(feature_object_ids['objectIds'])):\n",
    "                current_oid = feature_object_ids['objectIds'][j]\n",
    "                current_oid_attachments = i.attachments.get_list(oid=current_oid)\n",
    "            \n",
    "                if len(current_oid_attachments) > 0:\n",
    "                    for k in range(len(current_oid_attachments)):\n",
    "                        attachment_id = current_oid_attachments[k]['id']\n",
    "                        current_attachment_path = i.attachments.download(oid=current_oid, attachment_id=attachment_id, save_path=feature_layer_folder)\n",
    "                        csvwriter.writerow([current_oid, os.path.join('{}_attachments'.format(re.sub(r'[^A-Za-z0-9]+', '', i.properties.name)), os.path.split(current_attachment_path[0])[1])])\n",
    "            "
   ]
  },
  {
   "cell_type": "markdown",
   "id": "293c4faf",
   "metadata": {},
   "source": [
    "# Get pandas dataframe"
   ]
  },
  {
   "cell_type": "code",
   "execution_count": 5,
   "id": "4a071225",
   "metadata": {},
   "outputs": [
    {
     "name": "stdout",
     "output_type": "stream",
     "text": [
      "<Survey @ NDPL Stationary Acoustic Metadata>\n"
     ]
    }
   ],
   "source": [
    "survey_manager = arcgis.apps.survey123.SurveyManager(gis)\n",
    "survey_by_id = survey_manager.get(survey_item_id)\n",
    "print(survey_by_id)"
   ]
  },
  {
   "cell_type": "code",
   "execution_count": 6,
   "id": "9be866e2",
   "metadata": {
    "scrolled": true
   },
   "outputs": [
    {
     "data": {
      "text/html": [
       "<div>\n",
       "<style scoped>\n",
       "    .dataframe tbody tr th:only-of-type {\n",
       "        vertical-align: middle;\n",
       "    }\n",
       "\n",
       "    .dataframe tbody tr th {\n",
       "        vertical-align: top;\n",
       "    }\n",
       "\n",
       "    .dataframe thead th {\n",
       "        text-align: right;\n",
       "    }\n",
       "</style>\n",
       "<table border=\"1\" class=\"dataframe\">\n",
       "  <thead>\n",
       "    <tr style=\"text-align: right;\">\n",
       "      <th></th>\n",
       "      <th>objectid</th>\n",
       "      <th>globalid</th>\n",
       "      <th>CreationDate</th>\n",
       "      <th>Creator</th>\n",
       "      <th>EditDate</th>\n",
       "      <th>Editor</th>\n",
       "      <th>contact_name</th>\n",
       "      <th>contact_email</th>\n",
       "      <th>survey_start_time</th>\n",
       "      <th>grts_cell_id</th>\n",
       "      <th>...</th>\n",
       "      <th>nightly_low_relative_humidity_</th>\n",
       "      <th>nightly_high_relative_humidity_</th>\n",
       "      <th>nightly_low_weather_event</th>\n",
       "      <th>nightly_high_weather_event</th>\n",
       "      <th>nightly_low_windspeed_kmhr</th>\n",
       "      <th>nightly_high_windspeed_kmhr</th>\n",
       "      <th>nightly_low_cloud_cover_</th>\n",
       "      <th>nightly_high_cloud_cover_</th>\n",
       "      <th>time_zone</th>\n",
       "      <th>SHAPE</th>\n",
       "    </tr>\n",
       "  </thead>\n",
       "  <tbody>\n",
       "    <tr>\n",
       "      <th>0</th>\n",
       "      <td>1</td>\n",
       "      <td>2c0db756-9180-420b-84aa-e9f549caa7cd</td>\n",
       "      <td>2022-04-11 04:31:54.160999</td>\n",
       "      <td>ted.weller_usfs</td>\n",
       "      <td>2022-05-10 16:08:34.483000</td>\n",
       "      <td>science@batcon.org</td>\n",
       "      <td>Ted Weller</td>\n",
       "      <td>Theodore.weller@usda.gov</td>\n",
       "      <td>2022-04-09 02:34:00</td>\n",
       "      <td>59306.0</td>\n",
       "      <td>...</td>\n",
       "      <td>NaN</td>\n",
       "      <td>NaN</td>\n",
       "      <td>None</td>\n",
       "      <td>None</td>\n",
       "      <td>NaN</td>\n",
       "      <td>NaN</td>\n",
       "      <td>NaN</td>\n",
       "      <td>NaN</td>\n",
       "      <td>Pacific Time</td>\n",
       "      <td>{\"x\": -123.3875823712855, \"y\": 40.940792027920...</td>\n",
       "    </tr>\n",
       "    <tr>\n",
       "      <th>1</th>\n",
       "      <td>2</td>\n",
       "      <td>26c998bd-fc6b-4132-8535-52a480a1a74e</td>\n",
       "      <td>2022-04-26 15:21:42.713999</td>\n",
       "      <td>ted.weller_usfs</td>\n",
       "      <td>2022-05-10 16:08:32.015000</td>\n",
       "      <td>science@batcon.org</td>\n",
       "      <td>Ted Weller</td>\n",
       "      <td>Theodore.weller@usda.gov</td>\n",
       "      <td>2022-04-26 03:49:00</td>\n",
       "      <td>88752.0</td>\n",
       "      <td>...</td>\n",
       "      <td>NaN</td>\n",
       "      <td>NaN</td>\n",
       "      <td>None</td>\n",
       "      <td>None</td>\n",
       "      <td>NaN</td>\n",
       "      <td>NaN</td>\n",
       "      <td>NaN</td>\n",
       "      <td>NaN</td>\n",
       "      <td>Pacific Time</td>\n",
       "      <td>{\"x\": -124.09504863193806, \"y\": 40.89769385563...</td>\n",
       "    </tr>\n",
       "    <tr>\n",
       "      <th>2</th>\n",
       "      <td>3</td>\n",
       "      <td>4f0ab3d7-324f-4ecb-b411-ad0fedfc8bda</td>\n",
       "      <td>2022-04-27 14:59:35.220999</td>\n",
       "      <td>ted.weller_usfs</td>\n",
       "      <td>2022-05-10 16:08:29.088999</td>\n",
       "      <td>science@batcon.org</td>\n",
       "      <td>Ted Weller</td>\n",
       "      <td>Theodore.weller@usda.gov</td>\n",
       "      <td>2022-04-27 03:01:00</td>\n",
       "      <td>88752.0</td>\n",
       "      <td>...</td>\n",
       "      <td>NaN</td>\n",
       "      <td>NaN</td>\n",
       "      <td>None</td>\n",
       "      <td>None</td>\n",
       "      <td>NaN</td>\n",
       "      <td>NaN</td>\n",
       "      <td>NaN</td>\n",
       "      <td>NaN</td>\n",
       "      <td>Pacific Time</td>\n",
       "      <td>{\"x\": -124.09500732085574, \"y\": 40.89768247227...</td>\n",
       "    </tr>\n",
       "    <tr>\n",
       "      <th>3</th>\n",
       "      <td>4</td>\n",
       "      <td>40a2b146-d001-4278-a873-4736d15601bf</td>\n",
       "      <td>2022-05-09 20:20:38.960000</td>\n",
       "      <td></td>\n",
       "      <td>2022-05-09 20:20:38.960000</td>\n",
       "      <td></td>\n",
       "      <td>Sharon lashway</td>\n",
       "      <td>Slashway@azgfd.gov</td>\n",
       "      <td>2022-05-03 01:54:00</td>\n",
       "      <td>6486.0</td>\n",
       "      <td>...</td>\n",
       "      <td>NaN</td>\n",
       "      <td>NaN</td>\n",
       "      <td>None</td>\n",
       "      <td>None</td>\n",
       "      <td>NaN</td>\n",
       "      <td>NaN</td>\n",
       "      <td>NaN</td>\n",
       "      <td>NaN</td>\n",
       "      <td>Mountain Time</td>\n",
       "      <td>{\"x\": -111.24162588109732, \"y\": 33.74726377323...</td>\n",
       "    </tr>\n",
       "    <tr>\n",
       "      <th>4</th>\n",
       "      <td>5</td>\n",
       "      <td>c5db0db8-6762-4f66-9ee8-5fed6ca672f3</td>\n",
       "      <td>2022-05-09 20:21:37.770999</td>\n",
       "      <td></td>\n",
       "      <td>2022-05-09 20:21:37.770999</td>\n",
       "      <td></td>\n",
       "      <td>Sharon Lashway</td>\n",
       "      <td>Slashway@azgfd.gov</td>\n",
       "      <td>2022-05-03 01:54:00</td>\n",
       "      <td>6486.0</td>\n",
       "      <td>...</td>\n",
       "      <td>NaN</td>\n",
       "      <td>NaN</td>\n",
       "      <td>None</td>\n",
       "      <td>None</td>\n",
       "      <td>NaN</td>\n",
       "      <td>NaN</td>\n",
       "      <td>NaN</td>\n",
       "      <td>NaN</td>\n",
       "      <td>Mountain Time</td>\n",
       "      <td>{\"x\": -111.2551756813313, \"y\": 33.789939680583...</td>\n",
       "    </tr>\n",
       "  </tbody>\n",
       "</table>\n",
       "<p>5 rows × 39 columns</p>\n",
       "</div>"
      ],
      "text/plain": [
       "   objectid                              globalid               CreationDate  \\\n",
       "0         1  2c0db756-9180-420b-84aa-e9f549caa7cd 2022-04-11 04:31:54.160999   \n",
       "1         2  26c998bd-fc6b-4132-8535-52a480a1a74e 2022-04-26 15:21:42.713999   \n",
       "2         3  4f0ab3d7-324f-4ecb-b411-ad0fedfc8bda 2022-04-27 14:59:35.220999   \n",
       "3         4  40a2b146-d001-4278-a873-4736d15601bf 2022-05-09 20:20:38.960000   \n",
       "4         5  c5db0db8-6762-4f66-9ee8-5fed6ca672f3 2022-05-09 20:21:37.770999   \n",
       "\n",
       "           Creator                   EditDate              Editor  \\\n",
       "0  ted.weller_usfs 2022-05-10 16:08:34.483000  science@batcon.org   \n",
       "1  ted.weller_usfs 2022-05-10 16:08:32.015000  science@batcon.org   \n",
       "2  ted.weller_usfs 2022-05-10 16:08:29.088999  science@batcon.org   \n",
       "3                  2022-05-09 20:20:38.960000                       \n",
       "4                  2022-05-09 20:21:37.770999                       \n",
       "\n",
       "     contact_name             contact_email   survey_start_time  grts_cell_id  \\\n",
       "0      Ted Weller  Theodore.weller@usda.gov 2022-04-09 02:34:00       59306.0   \n",
       "1      Ted Weller  Theodore.weller@usda.gov 2022-04-26 03:49:00       88752.0   \n",
       "2      Ted Weller  Theodore.weller@usda.gov 2022-04-27 03:01:00       88752.0   \n",
       "3  Sharon lashway        Slashway@azgfd.gov 2022-05-03 01:54:00        6486.0   \n",
       "4  Sharon Lashway        Slashway@azgfd.gov 2022-05-03 01:54:00        6486.0   \n",
       "\n",
       "   ... nightly_low_relative_humidity_ nightly_high_relative_humidity_  \\\n",
       "0  ...                            NaN                             NaN   \n",
       "1  ...                            NaN                             NaN   \n",
       "2  ...                            NaN                             NaN   \n",
       "3  ...                            NaN                             NaN   \n",
       "4  ...                            NaN                             NaN   \n",
       "\n",
       "  nightly_low_weather_event  nightly_high_weather_event  \\\n",
       "0                      None                        None   \n",
       "1                      None                        None   \n",
       "2                      None                        None   \n",
       "3                      None                        None   \n",
       "4                      None                        None   \n",
       "\n",
       "  nightly_low_windspeed_kmhr  nightly_high_windspeed_kmhr  \\\n",
       "0                        NaN                          NaN   \n",
       "1                        NaN                          NaN   \n",
       "2                        NaN                          NaN   \n",
       "3                        NaN                          NaN   \n",
       "4                        NaN                          NaN   \n",
       "\n",
       "   nightly_low_cloud_cover_ nightly_high_cloud_cover_      time_zone  \\\n",
       "0                       NaN                       NaN   Pacific Time   \n",
       "1                       NaN                       NaN   Pacific Time   \n",
       "2                       NaN                       NaN   Pacific Time   \n",
       "3                       NaN                       NaN  Mountain Time   \n",
       "4                       NaN                       NaN  Mountain Time   \n",
       "\n",
       "                                               SHAPE  \n",
       "0  {\"x\": -123.3875823712855, \"y\": 40.940792027920...  \n",
       "1  {\"x\": -124.09504863193806, \"y\": 40.89769385563...  \n",
       "2  {\"x\": -124.09500732085574, \"y\": 40.89768247227...  \n",
       "3  {\"x\": -111.24162588109732, \"y\": 33.74726377323...  \n",
       "4  {\"x\": -111.2551756813313, \"y\": 33.789939680583...  \n",
       "\n",
       "[5 rows x 39 columns]"
      ]
     },
     "execution_count": 6,
     "metadata": {},
     "output_type": "execute_result"
    }
   ],
   "source": [
    "# Download - pandas DataFrame\n",
    "import pandas as pd\n",
    "survey_df = survey_by_id.download('DF')\n",
    "survey_df.head()"
   ]
  },
  {
   "cell_type": "code",
   "execution_count": 7,
   "id": "f2a47636",
   "metadata": {},
   "outputs": [
    {
     "data": {
      "text/plain": [
       "Index(['objectid', 'globalid', 'CreationDate', 'Creator', 'EditDate', 'Editor',\n",
       "       'contact_name', 'contact_email', 'survey_start_time', 'grts_cell_id',\n",
       "       'location_name', 'land_unit_code', 'broad_habitat_type',\n",
       "       'distance_to_nearest_clutter_met', 'clutter_type', 'percent_clutter',\n",
       "       'distance_to_nearest_water_meter', 'water_type', 'detector',\n",
       "       'detector_serial_number', 'microphone', 'microphone_serial_number',\n",
       "       'microphone_orientation', 'microphone_height_meters',\n",
       "       'weather_proofing', 'unusual_occurrences', 'survey_end_time',\n",
       "       'nightly_low_temperature', 'nightly_high_temperature',\n",
       "       'nightly_low_relative_humidity_', 'nightly_high_relative_humidity_',\n",
       "       'nightly_low_weather_event', 'nightly_high_weather_event',\n",
       "       'nightly_low_windspeed_kmhr', 'nightly_high_windspeed_kmhr',\n",
       "       'nightly_low_cloud_cover_', 'nightly_high_cloud_cover_', 'time_zone',\n",
       "       'SHAPE'],\n",
       "      dtype='object')"
      ]
     },
     "execution_count": 7,
     "metadata": {},
     "output_type": "execute_result"
    }
   ],
   "source": [
    "survey_df.columns"
   ]
  },
  {
   "cell_type": "code",
   "execution_count": 8,
   "id": "b0817e49",
   "metadata": {},
   "outputs": [
    {
     "data": {
      "text/plain": [
       "120"
      ]
     },
     "execution_count": 8,
     "metadata": {},
     "output_type": "execute_result"
    }
   ],
   "source": [
    "len(survey_df)"
   ]
  },
  {
   "cell_type": "code",
   "execution_count": null,
   "id": "c52e7597",
   "metadata": {},
   "outputs": [],
   "source": []
  }
 ],
 "metadata": {
  "esriNotebookRuntime": {
   "notebookRuntimeName": "ArcGIS Notebook Python 3 Standard",
   "notebookRuntimeVersion": "4.0"
  },
  "kernelspec": {
   "display_name": "Python 3.8.13 64-bit ('3.8.13')",
   "language": "python",
   "name": "python3"
  },
  "language_info": {
   "codemirror_mode": {
    "name": "ipython",
    "version": 3
   },
   "file_extension": ".py",
   "mimetype": "text/x-python",
   "name": "python",
   "nbconvert_exporter": "python",
   "pygments_lexer": "ipython3",
   "version": "3.8.13"
  },
  "vscode": {
   "interpreter": {
    "hash": "7f009ecd8afc6bbf75f4f9005b96ab8b83127b9005fa95b96260408a72f4b07f"
   }
  }
 },
 "nbformat": 4,
 "nbformat_minor": 5
}
